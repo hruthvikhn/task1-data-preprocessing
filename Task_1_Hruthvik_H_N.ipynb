{
  "nbformat": 4,
  "nbformat_minor": 0,
  "metadata": {
    "colab": {
      "provenance": []
    },
    "kernelspec": {
      "name": "python3",
      "display_name": "Python 3"
    },
    "language_info": {
      "name": "python"
    }
  },
  "cells": [
    {
      "cell_type": "code",
      "execution_count": 53,
      "metadata": {
        "id": "VHdCnc7tHkj1"
      },
      "outputs": [],
      "source": [
        "#importing the necessary Libraries\n",
        "\n",
        "import pandas as pd\n",
        "import numpy as np\n",
        "import seaborn as sns\n",
        "import matplotlib.pyplot as plt\n",
        "from sklearn.preprocessing import StandardScaler"
      ]
    },
    {
      "cell_type": "code",
      "source": [
        "# Load the dataset\n",
        "\n",
        "df = pd.read_csv('airlines_flights_data.csv')"
      ],
      "metadata": {
        "id": "2j8X_F5MH8kc"
      },
      "execution_count": 54,
      "outputs": []
    },
    {
      "cell_type": "code",
      "source": [
        "# Some Basic information\n",
        "\n",
        "print(df.info())\n",
        "print(df.head())\n",
        "print(df.isnull().sum()) #to know the missing values"
      ],
      "metadata": {
        "id": "MHQwMEkPH8g9",
        "colab": {
          "base_uri": "https://localhost:8080/"
        },
        "outputId": "abe36451-9eb2-4c03-b311-caeb03e678cf"
      },
      "execution_count": 55,
      "outputs": [
        {
          "output_type": "stream",
          "name": "stdout",
          "text": [
            "<class 'pandas.core.frame.DataFrame'>\n",
            "RangeIndex: 300153 entries, 0 to 300152\n",
            "Data columns (total 12 columns):\n",
            " #   Column            Non-Null Count   Dtype  \n",
            "---  ------            --------------   -----  \n",
            " 0   index             300153 non-null  int64  \n",
            " 1   airline           300153 non-null  object \n",
            " 2   flight            300153 non-null  object \n",
            " 3   source_city       300153 non-null  object \n",
            " 4   departure_time    300153 non-null  object \n",
            " 5   stops             300153 non-null  object \n",
            " 6   arrival_time      300153 non-null  object \n",
            " 7   destination_city  300153 non-null  object \n",
            " 8   class             300153 non-null  object \n",
            " 9   duration          300153 non-null  float64\n",
            " 10  days_left         300153 non-null  int64  \n",
            " 11  price             300153 non-null  int64  \n",
            "dtypes: float64(1), int64(3), object(8)\n",
            "memory usage: 27.5+ MB\n",
            "None\n",
            "   index   airline   flight source_city departure_time stops   arrival_time  \\\n",
            "0      0  SpiceJet  SG-8709       Delhi        Evening  zero          Night   \n",
            "1      1  SpiceJet  SG-8157       Delhi  Early_Morning  zero        Morning   \n",
            "2      2   AirAsia   I5-764       Delhi  Early_Morning  zero  Early_Morning   \n",
            "3      3   Vistara   UK-995       Delhi        Morning  zero      Afternoon   \n",
            "4      4   Vistara   UK-963       Delhi        Morning  zero        Morning   \n",
            "\n",
            "  destination_city    class  duration  days_left  price  \n",
            "0           Mumbai  Economy      2.17          1   5953  \n",
            "1           Mumbai  Economy      2.33          1   5953  \n",
            "2           Mumbai  Economy      2.17          1   5956  \n",
            "3           Mumbai  Economy      2.25          1   5955  \n",
            "4           Mumbai  Economy      2.33          1   5955  \n",
            "index               0\n",
            "airline             0\n",
            "flight              0\n",
            "source_city         0\n",
            "departure_time      0\n",
            "stops               0\n",
            "arrival_time        0\n",
            "destination_city    0\n",
            "class               0\n",
            "duration            0\n",
            "days_left           0\n",
            "price               0\n",
            "dtype: int64\n"
          ]
        }
      ]
    },
    {
      "cell_type": "markdown",
      "source": [
        "# Handle Missing Values\n",
        "\n",
        "There is no missing values found in the dataset, so I'll skip handling.\n",
        "\n",
        "If there's some Missing Values we can use mean, median, mode imputations to resolve it."
      ],
      "metadata": {
        "id": "3SeNcFmWgSn8"
      }
    },
    {
      "cell_type": "code",
      "source": [
        "# Dropping the Unnecessary Columns\n",
        "\n",
        "df.drop(columns=['index'], inplace=True) # index column is not an important feature for classification, so we drop it"
      ],
      "metadata": {
        "id": "6QQbVpHyH8eO"
      },
      "execution_count": 57,
      "outputs": []
    },
    {
      "cell_type": "code",
      "source": [
        "# Encode Categorical Variables using One-Hot Encoding\n",
        "\n",
        "categorical_columns = ['airline', 'flight', 'source_city', 'departure_time', 'stops', 'arrival_time', 'destination_city', 'class']\n",
        "\n",
        "df = pd.get_dummies(df, columns = categorical_columns, drop_first=True)"
      ],
      "metadata": {
        "id": "11OkWMd0H8bo"
      },
      "execution_count": 58,
      "outputs": []
    },
    {
      "cell_type": "code",
      "source": [
        "# Normalize Numerical Features\n",
        "\n",
        "scaler = StandardScaler()\n",
        "numerical_cols = ['duration', 'days_left', 'price']\n",
        "df[numerical_cols] = scaler.fit_transform(df[numerical_cols])"
      ],
      "metadata": {
        "id": "HFmfGbVPX1gX"
      },
      "execution_count": 59,
      "outputs": []
    },
    {
      "cell_type": "code",
      "source": [
        "# Visualizing Outliers with Boxplots\n",
        "\n",
        "print(\"\\n Boxplots for Outlier Detection:\")\n",
        "for col in numerical_cols:\n",
        "    plt.figure(figsize=(8, 4))\n",
        "    sns.boxplot(x=df[col])\n",
        "    plt.title(f\"Boxplot of {col}\")\n",
        "    plt.show()"
      ],
      "metadata": {
        "colab": {
          "base_uri": "https://localhost:8080/",
          "height": 1000
        },
        "id": "Dd942GRpX7Tk",
        "outputId": "d2d9ac78-4c1c-4b41-e686-0de6ea771c86"
      },
      "execution_count": 60,
      "outputs": [
        {
          "output_type": "stream",
          "name": "stdout",
          "text": [
            "\n",
            " Boxplots for Outlier Detection:\n"
          ]
        },
        {
          "output_type": "display_data",
          "data": {
            "text/plain": [
              "<Figure size 800x400 with 1 Axes>"
            ],
            "image/png": "[encoded data removed]"
          },
          "metadata": {}
        },
        {
          "output_type": "display_data",
          "data": {
            "text/plain": [
              "<Figure size 800x400 with 1 Axes>"
            ],
            "image/png": "[encoded data removed]"
          },
          "metadata": {}
        },
        {
          "output_type": "display_data",
          "data": {
            "text/plain": [
              "<Figure size 800x400 with 1 Axes>"
            ],
            "image/png": "[encoded data removed]"
          },
          "metadata": {}
        }
      ]
    },
    {
      "cell_type": "code",
      "source": [
        "# Removing Outliers Using IQR Method\n",
        "\n",
        "def remove_outliers(df, column):\n",
        "    Q1 = df[column].quantile(0.25)\n",
        "    Q3 = df[column].quantile(0.75)\n",
        "    IQR = Q3 - Q1\n",
        "    return df[(df[column] >= Q1 - 1.5 * IQR) & (df[column] <= Q3 + 1.5 * IQR)]\n",
        "\n",
        "for col in numerical_cols:\n",
        "    before = df.shape[0]\n",
        "    df = remove_outliers(df, col)\n",
        "    after = df.shape[0]\n",
        "    print(f\" Removed {before - after} outliers from '{col}'\")"
      ],
      "metadata": {
        "colab": {
          "base_uri": "https://localhost:8080/"
        },
        "id": "Qq53IwAJaNdF",
        "outputId": "5801dfec-06e2-4c49-d639-adfe0d4b4eb0"
      },
      "execution_count": 61,
      "outputs": [
        {
          "output_type": "stream",
          "name": "stdout",
          "text": [
            " Removed 2110 outliers from 'duration'\n",
            " Removed 0 outliers from 'days_left'\n",
            " Removed 122 outliers from 'price'\n"
          ]
        }
      ]
    },
    {
      "cell_type": "code",
      "source": [
        "# Step 10: Final Output\n",
        "print(f\"\\n Final cleaned dataset shape: {df.shape}\")"
      ],
      "metadata": {
        "colab": {
          "base_uri": "https://localhost:8080/"
        },
        "id": "fSzdBS3Xathq",
        "outputId": "2bb2dae0-4bdc-47c4-9803-4d83a169d1f4"
      },
      "execution_count": 62,
      "outputs": [
        {
          "output_type": "stream",
          "name": "stdout",
          "text": [
            "\n",
            " Final cleaned dataset shape: (297921, 1591)\n"
          ]
        }
      ]
    }
  ]
}